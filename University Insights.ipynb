{
 "cells": [
  {
   "cell_type": "markdown",
   "metadata": {},
   "source": [
    "#University Rankings and Insights"
   ]
  },
  {
   "cell_type": "markdown",
   "metadata": {},
   "source": [
    "University ranking data from 2011-2016 was taken from the Kaggle website.  This notebook is split into three sections: data cleaning, analysis, and machine learning practice."
   ]
  },
  {
   "cell_type": "markdown",
   "metadata": {},
   "source": [
    "##Clean Data"
   ]
  },
  {
   "cell_type": "markdown",
   "metadata": {},
   "source": [
    "Read in the data and assess columns with missing values and value types."
   ]
  },
  {
   "cell_type": "code",
   "execution_count": 1,
   "metadata": {
    "collapsed": false
   },
   "outputs": [
    {
     "name": "stdout",
     "output_type": "stream",
     "text": [
      "  world_rank                        university_name                   country  \\\n",
      "0          1                     Harvard University  United States of America   \n",
      "1          2     California Institute of Technology  United States of America   \n",
      "2          3  Massachusetts Institute of Technology  United States of America   \n",
      "\n",
      "   teaching international  research  citations income total_score  \\\n",
      "0      99.7          72.4      98.7       98.8   34.5        96.1   \n",
      "1      97.7          54.6      98.0       99.9   83.7          96   \n",
      "2      97.8          82.3      91.4       99.9   87.5        95.6   \n",
      "\n",
      "  num_students  student_staff_ratio international_students female_male_ratio  \\\n",
      "0       20,152                  8.9                    25%               NaN   \n",
      "1        2,243                  6.9                    27%           33 : 67   \n",
      "2       11,074                  9.0                    33%           37 : 63   \n",
      "\n",
      "   year  \n",
      "0  2011  \n",
      "1  2011  \n",
      "2  2011  \n"
     ]
    }
   ],
   "source": [
    "import pandas as pd\n",
    "import numpy as np\n",
    "pd.set_option('chained_assignment',None)\n",
    "%matplotlib inline\n",
    "import matplotlib.pyplot as plt\n",
    "\n",
    "university = pd.read_csv(\"/Users/matthu24/.spyder2-py3/University.csv\", encoding='ISO-8859-1')\n",
    "print(university.head(3))"
   ]
  },
  {
   "cell_type": "code",
   "execution_count": 2,
   "metadata": {
    "collapsed": false
   },
   "outputs": [
    {
     "name": "stdout",
     "output_type": "stream",
     "text": [
      "world_rank                  0\n",
      "university_name             0\n",
      "country                     0\n",
      "teaching                    0\n",
      "international               0\n",
      "research                    0\n",
      "citations                   0\n",
      "income                      0\n",
      "total_score                 0\n",
      "num_students               59\n",
      "student_staff_ratio        59\n",
      "international_students     67\n",
      "female_male_ratio         233\n",
      "year                        0\n",
      "dtype: int64\n",
      "          teaching     research    citations  student_staff_ratio         year\n",
      "count  2603.000000  2603.000000  2603.000000          2544.000000  2603.000000\n",
      "mean     37.801498    35.910257    60.921629            18.445283  2014.075682\n",
      "std      17.604218    21.254805    23.073219            11.458698     1.685733\n",
      "min       9.900000     2.900000     1.200000             0.600000  2011.000000\n",
      "25%      24.700000    19.600000    45.500000            11.975000  2013.000000\n",
      "50%      33.900000    30.500000    62.500000            16.100000  2014.000000\n",
      "75%      46.400000    47.250000    79.050000            21.500000  2016.000000\n",
      "max      99.700000    99.400000   100.000000           162.600000  2016.000000\n"
     ]
    }
   ],
   "source": [
    "missing_values = university.isnull().sum()\n",
    "print(missing_values)\n",
    "describe = university.describe()\n",
    "print(describe)"
   ]
  },
  {
   "cell_type": "markdown",
   "metadata": {},
   "source": [
    "The following columns have missing values(indicated by either \"-\" or \"NaN\", which will need to be filled in with either the median value of the column or with 50:50 for female_male_ratio: \"num_students\",\"student_staff_ratio\",\"international_students\",\"female_male_ratio\""
   ]
  },
  {
   "cell_type": "markdown",
   "metadata": {},
   "source": [
    "Describe method only shows columns that have numerical value types such int or float.  This means the following columns have string values that need to be converted to floats: \"world rank\",\"international\",\"income\",\"total_score\",\"num_students\",\"international_students\",\"female_male_ratio\""
   ]
  },
  {
   "cell_type": "markdown",
   "metadata": {},
   "source": [
    "Additionally, the num-students column has commas in each value, meaning we need to take those out before converting the string to a float.\n",
    "\n",
    "Similarly, the international_students column has percent signs in each value that need to be taken out."
   ]
  },
  {
   "cell_type": "code",
   "execution_count": 3,
   "metadata": {
    "collapsed": true
   },
   "outputs": [],
   "source": [
    "def remove_dash(row):\n",
    "    if row[column] == '-':\n",
    "        \n",
    "        return 0\n",
    "    else:\n",
    "        return row[column]\n",
    "        \n",
    "def to_float(row):\n",
    "    return float(row[column])\n",
    "    \n",
    "def fill_median(row):\n",
    "    if row[column] == 0:\n",
    "        return median\n",
    "    else:\n",
    "        return row[column]\n",
    "\n",
    "def remove_comma(row):\n",
    "    if \",\" in row[column]:\n",
    "        return row[column].replace(\",\",\"\")\n",
    "    else:\n",
    "        return row[column]\n",
    "\n",
    "def remove_percent(row):\n",
    "    if \"%\" in row[column]:\n",
    "        return row[column].replace(\"%\",\"\")\n",
    "    else:\n",
    "        return row[column]"
   ]
  },
  {
   "cell_type": "code",
   "execution_count": 4,
   "metadata": {
    "collapsed": false
   },
   "outputs": [
    {
     "name": "stdout",
     "output_type": "stream",
     "text": [
      "  world_rank     university_name                   country  teaching  \\\n",
      "0          1  Harvard University  United States of America      99.7   \n",
      "\n",
      "   international  research  citations  income  total_score  num_students  \\\n",
      "0           72.4      98.7       98.8    34.5         96.1         20152   \n",
      "\n",
      "   student_staff_ratio  international_students female_male_ratio  year  \n",
      "0                  8.9                      25               NaN  2011  \n"
     ]
    }
   ],
   "source": [
    "columns = [\"international\",\"income\",\"total_score\",\"student_staff_ratio\"]\n",
    "for column in columns:\n",
    "    #need to remove dash first to convert to float\n",
    "    university[column]= university.apply(remove_dash,axis = 1)   \n",
    "    university[column]= university.apply(to_float,axis = 1)\n",
    "    \n",
    "    #replace NaN with zero, find median of series without the zeroes, then\n",
    "    #replace the zeroes with the median\n",
    "    university[column]= university[column].fillna(0)\n",
    "    median = university[column][university[column] != 0].median()\n",
    "    university[column] = university.apply(fill_median,axis =1)\n",
    "\n",
    "#These columns have either a comma or a percentage sign in the string values, so I wanted to \n",
    "#with them separately.\n",
    "columns = [\"international_students\",\"num_students\"]\n",
    "for column in columns:\n",
    "    university[column] = university[column].fillna(\"0\") \n",
    "    university[column] = university.apply(remove_percent,axis = 1)\n",
    "    university[column] = university.apply(remove_comma,axis = 1)\n",
    "    university[column] = university.apply(to_float,axis = 1)   \n",
    "\n",
    "    median = university[column][university[column] != 0].median()\n",
    "    university[column] = university.apply(fill_median,axis =1)\n",
    "    \n",
    "print(university.head(1))"
   ]
  },
  {
   "cell_type": "code",
   "execution_count": 5,
   "metadata": {
    "collapsed": false
   },
   "outputs": [
    {
     "name": "stdout",
     "output_type": "stream",
     "text": [
      "          teaching  international     research    citations       income  \\\n",
      "count  2603.000000    2603.000000  2603.000000  2603.000000  2603.000000   \n",
      "mean     37.801498      52.001537    35.910257    60.921629    48.311564   \n",
      "std      17.604218      22.065792    21.254805    23.073219    20.393490   \n",
      "min       9.900000       7.100000     2.900000     1.200000    24.200000   \n",
      "25%      24.700000      33.500000    19.600000    45.500000    33.600000   \n",
      "50%      33.900000      50.300000    30.500000    62.500000    41.000000   \n",
      "75%      46.400000      69.000000    47.250000    79.050000    56.000000   \n",
      "max      99.700000     100.000000    99.400000   100.000000   100.000000   \n",
      "\n",
      "       total_score   num_students  student_staff_ratio  \\\n",
      "count  2603.000000    2603.000000          2603.000000   \n",
      "mean     57.774568   23805.244333            18.392124   \n",
      "std       8.903851   17480.190768            11.333420   \n",
      "min      41.400000     462.000000             0.600000   \n",
      "25%      56.000000   12800.000000            12.050000   \n",
      "50%      56.000000   20851.000000            16.100000   \n",
      "75%      56.000000   29787.000000            21.200000   \n",
      "max      96.100000  379231.000000           162.600000   \n",
      "\n",
      "       international_students         year  \n",
      "count             2603.000000  2603.000000  \n",
      "mean                15.510949  2014.075682  \n",
      "std                 10.349697     1.685733  \n",
      "min                  1.000000  2011.000000  \n",
      "25%                  8.000000  2013.000000  \n",
      "50%                 13.000000  2014.000000  \n",
      "75%                 21.000000  2016.000000  \n",
      "max                 82.000000  2016.000000  \n"
     ]
    }
   ],
   "source": [
    "#Check\n",
    "describe = university.describe()\n",
    "print(describe)"
   ]
  },
  {
   "cell_type": "markdown",
   "metadata": {},
   "source": [
    "We have converted to float and filled out missing values for 10 out of 12 columns.  All that is left is \"world rank\" and \"male to female ratio\".  The male to female ratios are currently string values with the female percentage, then the colon, then the male percentage.  I want to split the male percentage and female percentage into two separate columns.  "
   ]
  },
  {
   "cell_type": "code",
   "execution_count": 6,
   "metadata": {
    "collapsed": false
   },
   "outputs": [],
   "source": [
    "def female_ratio(row):\n",
    "    return row[\"female_male_ratio\"][:2]\n",
    "\n",
    "def male_ratio(row):\n",
    "    return row[\"female_male_ratio\"][3:5]\n",
    "    \n",
    "def remove_spaces(row):\n",
    "    return row[\"female_male_ratio\"].replace(\" \",\"\")\n",
    "        \n",
    "def remove_dash_gender(row):\n",
    "    if \"-\" in row[\"female_male_ratio\"]:\n",
    "        return row[\"female_male_ratio\"].replace(\"-\",\"50:50\")  \n",
    "    else:\n",
    "        return row[\"female_male_ratio\"]\n",
    "\n",
    "def gender_float(row):\n",
    "    if type(row[column]) == str:\n",
    "        return float(row[column])\n",
    "    else:\n",
    "        return row[column]\n",
    "\n",
    "university[\"female_male_ratio\"] = university[\"female_male_ratio\"].fillna(\"50:50\")\n",
    "university[\"female_male_ratio\"] = university.apply(remove_dash_gender,axis = 1)\n",
    "university[\"female\"] = university.apply(female_ratio,axis =1)\n",
    "university[\"female_male_ratio\"] = university.apply(remove_spaces,axis =1)\n",
    "university[\"male\"] = university.apply(male_ratio,axis =1)\n",
    "\n",
    "#some rare columns don't have the same colon format, but instead have a decimal value, \n",
    "#presumably to denote the percentage of female students\n",
    "\n",
    "#****Warning\n",
    "for i in range(len(university)):\n",
    "    if university[\"female_male_ratio\"].iloc[i][0] == \"0\":\n",
    "        female_percent = float(university[\"female_male_ratio\"].iloc[i])*100       \n",
    "        university[\"female\"].iloc[i] = female_percent       \n",
    "        university[\"male\"].iloc[i] = 100-female_percent\n",
    "#****Warning\n",
    "\n",
    "\n",
    "university = university[university[\"male\"]!=\":0\"]\n",
    "\n",
    "#male and female columns are ready to be converted to floats\n",
    "columns = [\"female\",\"male\"]\n",
    "for column in columns:\n",
    "    university[column] = university.apply(gender_float,axis = 1)\n",
    "\n"
   ]
  },
  {
   "cell_type": "code",
   "execution_count": 7,
   "metadata": {
    "collapsed": false,
    "scrolled": true
   },
   "outputs": [
    {
     "name": "stdout",
     "output_type": "stream",
     "text": [
      "        world_rank     teaching  international     research    citations  \\\n",
      "count  1201.000000  1201.000000    1201.000000  1201.000000  1201.000000   \n",
      "mean    100.233972    50.730808      59.409742    52.252040    76.928726   \n",
      "std      57.634735    16.912699      21.144480    19.661541    15.535493   \n",
      "min       1.000000    15.900000      14.800000    13.100000     8.600000   \n",
      "25%      50.000000    38.300000      42.300000    37.100000    66.700000   \n",
      "50%     100.000000    47.500000      59.200000    48.500000    78.800000   \n",
      "75%     150.000000    60.200000      77.500000    64.700000    89.200000   \n",
      "max     200.000000    99.700000     100.000000    99.400000   100.000000   \n",
      "\n",
      "            income  total_score   num_students  student_staff_ratio  \\\n",
      "count  1201.000000  1201.000000    1201.000000          1201.000000   \n",
      "mean     52.688593    59.846128   23843.400500            15.934971   \n",
      "std      21.774341    12.803446   13532.498897             9.362282   \n",
      "min      24.200000    41.400000     462.000000             3.600000   \n",
      "25%      37.600000    50.300000   14260.000000            10.200000   \n",
      "50%      42.600000    56.000000   22020.000000            14.700000   \n",
      "75%      63.300000    66.200000   30779.000000            18.700000   \n",
      "max     100.000000    96.100000  127431.000000            85.800000   \n",
      "\n",
      "       international_students         year       female         male  \n",
      "count             1201.000000  1201.000000  1201.000000  1201.000000  \n",
      "mean                19.517069  2013.501249    51.107098    48.892902  \n",
      "std                 10.125047     1.708374     9.375403     9.375403  \n",
      "min                  1.000000  2011.000000    25.000000    11.111111  \n",
      "25%                 12.000000  2012.000000    48.000000    45.000000  \n",
      "50%                 17.000000  2014.000000    52.000000    48.000000  \n",
      "75%                 26.000000  2015.000000    55.000000    52.000000  \n",
      "max                 54.000000  2016.000000    88.888889    75.000000  \n"
     ]
    }
   ],
   "source": [
    "#After the first 200 schools for each year, the column world rank only shows the range.\n",
    "Top_200_filter = []\n",
    "for i in university[\"world_rank\"]:\n",
    "    if len(i)>3:\n",
    "        Top_200_filter.append(False)\n",
    "    else:\n",
    "        Top_200_filter.append(True)\n",
    "university_200= university[Top_200_filter]\n",
    "\n",
    "def DF_float(row):\n",
    "    return float(row[\"world_rank\"])\n",
    "  \n",
    "\n",
    "#warning spot ***\n",
    "#cols = ['col1', 'col2', 'col3']\n",
    "#df.loc[:, cols] = df[cols].applymap(some_function)\n",
    "#df.loc[:, cols] = df.loc[:, cols].applymap(some_function) \n",
    "university_200.loc[:,\"world_rank\"] = university_200[\"world_rank\"].astype(float)\n",
    "#warning spot ****\n",
    "\n",
    "describe = university_200.describe()\n",
    "print(describe)\n",
    "\n"
   ]
  },
  {
   "cell_type": "markdown",
   "metadata": {},
   "source": [
    "So concludes the data cleaning.  All columns are converted to float values and have missing values filled in.  University_200 dataframe is what we will use for further exploration and analysis.  \n",
    "\n",
    "University_200 has the top 200 schools for each year, from year 2011-2016.  "
   ]
  },
  {
   "cell_type": "markdown",
   "metadata": {},
   "source": [
    "Use correlation method to see how much each column is correlated to the rest of the columns.  1.0 means perfect correlation.  From the data below, it seems that teaching and research columns are directly related to the total score and world rank.  Other columns more indirectly related to world rank and total score include citations, student_staff_ratio, income and international students. "
   ]
  },
  {
   "cell_type": "code",
   "execution_count": 8,
   "metadata": {
    "collapsed": false
   },
   "outputs": [
    {
     "name": "stdout",
     "output_type": "stream",
     "text": [
      "                        world_rank  teaching  international  research  \\\n",
      "world_rank                1.000000 -0.807394      -0.094623 -0.831215   \n",
      "teaching                 -0.807394  1.000000      -0.075170  0.892144   \n",
      "international            -0.094623 -0.075170       1.000000  0.028540   \n",
      "research                 -0.831215  0.892144       0.028540  1.000000   \n",
      "citations                -0.515432  0.221300       0.068625  0.190185   \n",
      "income                   -0.196267  0.214315       0.010932  0.270004   \n",
      "total_score              -0.917059  0.894085       0.123726  0.904166   \n",
      "num_students             -0.079633  0.104326      -0.194769  0.176000   \n",
      "student_staff_ratio       0.237822 -0.295101       0.136487 -0.168858   \n",
      "international_students   -0.190148  0.100834       0.764989  0.137550   \n",
      "year                     -0.000092 -0.098352       0.180940 -0.041708   \n",
      "female                    0.069758 -0.183403       0.031408 -0.155797   \n",
      "male                     -0.069758  0.183403      -0.031408  0.155797   \n",
      "\n",
      "                        citations    income  total_score  num_students  \\\n",
      "world_rank              -0.515432 -0.196267    -0.917059     -0.079633   \n",
      "teaching                 0.221300  0.214315     0.894085      0.104326   \n",
      "international            0.068625  0.010932     0.123726     -0.194769   \n",
      "research                 0.190185  0.270004     0.904166      0.176000   \n",
      "citations                1.000000 -0.145810     0.546015     -0.171073   \n",
      "income                  -0.145810  1.000000     0.197630     -0.076458   \n",
      "total_score              0.546015  0.197630     1.000000      0.034181   \n",
      "num_students            -0.171073 -0.076458     0.034181      1.000000   \n",
      "student_staff_ratio     -0.206799  0.052243    -0.254440      0.291180   \n",
      "international_students   0.116534 -0.028360     0.234413     -0.232650   \n",
      "year                     0.220337  0.110252     0.037239     -0.006547   \n",
      "female                   0.016127 -0.124341    -0.140571     -0.003172   \n",
      "male                    -0.016127  0.124341     0.140571      0.003172   \n",
      "\n",
      "                        student_staff_ratio  international_students      year  \\\n",
      "world_rank                         0.237822               -0.190148 -0.000092   \n",
      "teaching                          -0.295101                0.100834 -0.098352   \n",
      "international                      0.136487                0.764989  0.180940   \n",
      "research                          -0.168858                0.137550 -0.041708   \n",
      "citations                         -0.206799                0.116534  0.220337   \n",
      "income                             0.052243               -0.028360  0.110252   \n",
      "total_score                       -0.254440                0.234413  0.037239   \n",
      "num_students                       0.291180               -0.232650 -0.006547   \n",
      "student_staff_ratio                1.000000               -0.033858  0.040574   \n",
      "international_students            -0.033858                1.000000  0.022582   \n",
      "year                               0.040574                0.022582  1.000000   \n",
      "female                             0.037175               -0.077437  0.001473   \n",
      "male                              -0.037175                0.077437 -0.001473   \n",
      "\n",
      "                          female      male  \n",
      "world_rank              0.069758 -0.069758  \n",
      "teaching               -0.183403  0.183403  \n",
      "international           0.031408 -0.031408  \n",
      "research               -0.155797  0.155797  \n",
      "citations               0.016127 -0.016127  \n",
      "income                 -0.124341  0.124341  \n",
      "total_score            -0.140571  0.140571  \n",
      "num_students           -0.003172  0.003172  \n",
      "student_staff_ratio     0.037175 -0.037175  \n",
      "international_students -0.077437  0.077437  \n",
      "year                    0.001473 -0.001473  \n",
      "female                  1.000000 -1.000000  \n",
      "male                   -1.000000  1.000000  \n"
     ]
    }
   ],
   "source": [
    "correlation = university_200.corr()\n",
    "print(correlation)"
   ]
  },
  {
   "cell_type": "markdown",
   "metadata": {},
   "source": [
    "##Analyze"
   ]
  },
  {
   "cell_type": "markdown",
   "metadata": {},
   "source": [
    "#1. Which countries have the most schools ranked in the top 200 schools list in 2016?"
   ]
  },
  {
   "cell_type": "code",
   "execution_count": 9,
   "metadata": {
    "collapsed": false
   },
   "outputs": [
    {
     "name": "stdout",
     "output_type": "stream",
     "text": [
      "United States of America    63\n",
      "United Kingdom              34\n",
      "Germany                     20\n",
      "Netherlands                 12\n",
      "Australia                    8\n",
      "Canada                       7\n",
      "Name: country, dtype: int64\n"
     ]
    }
   ],
   "source": [
    "country_count_2016 = university_200[\"country\"][university_200[\"year\"] == 2016].value_counts()\n",
    "top_countries = country_count_2016.iloc[:6]\n",
    "print(top_countries)\n"
   ]
  },
  {
   "cell_type": "code",
   "execution_count": 10,
   "metadata": {
    "collapsed": false
   },
   "outputs": [
    {
     "data": {
      "text/plain": [
       "<matplotlib.figure.Figure at 0x10710fe10>"
      ]
     },
     "metadata": {},
     "output_type": "display_data"
    },
    {
     "data": {
      "image/png": "[encoded data removed]",
      "text/plain": [
       "<matplotlib.figure.Figure at 0x10710f6d8>"
      ]
     },
     "metadata": {},
     "output_type": "display_data"
    }
   ],
   "source": [
    "ind = np.arange(len(top_countries))\n",
    "width = 0.9\n",
    "\n",
    "plt.figure(figsize=(15,9),dpi = 30)\n",
    "fig, ax = plt.subplots()\n",
    "rects = ax.bar(ind,top_countries.values,width,color='r')\n",
    "ax.set_xticklabels(top_countries.index)\n",
    "ax.set_ylabel('Number of top universities')\n",
    "ax.set_title('Countries with the most top universities in 2016')\n",
    "ax.set_xticks(ind + 0.5*width)\n",
    "plt.xticks(rotation = 70)\n",
    "plt.show()\n"
   ]
  },
  {
   "cell_type": "markdown",
   "metadata": {},
   "source": [
    "#2. Total scores over the years for top 10 schools"
   ]
  },
  {
   "cell_type": "code",
   "execution_count": 11,
   "metadata": {
    "collapsed": false
   },
   "outputs": [
    {
     "name": "stdout",
     "output_type": "stream",
     "text": [
      "                            university_name  ave_total_score\n",
      "1803     California Institute of Technology        95.116667\n",
      "1805                    Stanford University        93.750000\n",
      "1808                     Harvard University        93.733333\n",
      "1804                   University of Oxford        93.300000\n",
      "1807  Massachusetts Institute of Technology        92.983333\n",
      "1809                   Princeton University        92.250000\n",
      "1806                University of Cambridge        92.216667\n",
      "1815     University of California, Berkeley        89.650000\n",
      "1810                Imperial College London        89.333333\n",
      "1812                  University of Chicago        88.383333\n"
     ]
    }
   ],
   "source": [
    "#take top 50 schools in 2016, and add another column that shows the average total score over \n",
    "#years for each of the top 50 schools\n",
    "\n",
    "top_50_2016 = university[university[\"year\"] == 2016].iloc[:50]\n",
    "\n",
    "def ave_total_score(row):\n",
    "    return university[university[\"university_name\"] == row[\"university_name\"]][\"total_score\"].mean()\n",
    "\n",
    "#sort top 50 schools in 2016 by highest average score first\n",
    "top_50_2016[\"ave_total_score\"] = top_50_2016.apply(ave_total_score,axis = 1)\n",
    "top_50_2016 = top_50_2016.sort_values(\"ave_total_score\",ascending = False)\n",
    "#grab the top 10 schools\n",
    "top_10_schools = top_50_2016.iloc[:10]\n",
    "print(top_10_schools[[\"university_name\",\"ave_total_score\"]])"
   ]
  },
  {
   "cell_type": "code",
   "execution_count": 12,
   "metadata": {
    "collapsed": false
   },
   "outputs": [
    {
     "data": {
      "image/png": "[encoded data removed]",
      "text/plain": [
       "<matplotlib.figure.Figure at 0x107501940>"
      ]
     },
     "metadata": {},
     "output_type": "display_data"
    }
   ],
   "source": [
    "#for each school in top ten, access university_200 year and total score\n",
    "schools = top_10_schools[\"university_name\"]\n",
    "fig = plt.figure()\n",
    "ax = plt.subplot(111)\n",
    "\n",
    "for school in schools:\n",
    "    #for each school in the top 10 list, access the school's data for each year (2011-2016)\n",
    "    school_df = university_200[university_200[\"university_name\"]==school]\n",
    "    ax.plot(school_df[\"year\"],school_df[\"total_score\"],label = school)\n",
    "    \n",
    "plt.xlabel(\"year\")\n",
    "plt.ylabel(\"total score\")\n",
    "plt.title(\"Total scores over the years for top 10 schools\")\n",
    "box = ax.get_position()\n",
    "ax.set_position([box.x0, box.y0, box.width * 0.8, box.height])\n",
    "\n",
    "# Put a legend to the right of the current axis\n",
    "ax.legend(loc='center left', bbox_to_anchor=(1, 0.5))\n",
    "plt.show()\n",
    "\n"
   ]
  },
  {
   "cell_type": "markdown",
   "metadata": {},
   "source": [
    "#3. Show average percentage of internationals over the years for US schools, and for non-US schools"
   ]
  },
  {
   "cell_type": "code",
   "execution_count": 13,
   "metadata": {
    "collapsed": false
   },
   "outputs": [
    {
     "data": {
      "image/png": "[encoded data removed]",
      "text/plain": [
       "<matplotlib.figure.Figure at 0x1075bb198>"
      ]
     },
     "metadata": {},
     "output_type": "display_data"
    }
   ],
   "source": [
    "US_schools = university_200[university_200[\"country\"] == \"United States of America\"]\n",
    "US_Year_International = pd.DataFrame(US_schools[[\"year\",\"international_students\"]])\n",
    "US_Year_International_pivot = pd.pivot_table(US_Year_International, index='year', values=['international_students'],aggfunc=np.mean)\n",
    "\n",
    "non_US_schools = university_200[university_200[\"country\"] != \"United States of America\"]\n",
    "non_US_Year_International = pd.DataFrame(non_US_schools[[\"year\",\"international_students\"]])\n",
    "non_US_Year_International_pivot = pd.pivot_table(non_US_Year_International,index = 'year',values=[\"international_students\"],aggfunc=np.mean)\n",
    "\n",
    "fig = plt.figure()\n",
    "ax = plt.subplot(111)\n",
    "\n",
    "ax.plot(US_Year_International_pivot.index,US_Year_International_pivot[\"international_students\"],label = \"US schools\")\n",
    "ax.plot(non_US_Year_International_pivot.index,non_US_Year_International_pivot[\"international_students\"],label = \"non-US schools\")\n",
    "plt.ylim((14,26))\n",
    "\n",
    "plt.xlabel(\"year\")\n",
    "plt.ylabel(\"percent international students\")\n",
    "plt.title(\"International student % over the years\")\n",
    "\n",
    "box = ax.get_position()\n",
    "ax.set_position([box.x0, box.y0, box.width * 0.8, box.height])\n",
    "ax.legend(loc='center left', bbox_to_anchor=(1, 0.5))\n",
    "#International_categories = [\"US schools\",\"non-US schools\"]\n",
    "#plt.legend(International_categories)\n",
    "\n",
    "plt.show()\n"
   ]
  },
  {
   "cell_type": "markdown",
   "metadata": {},
   "source": [
    "#4. Show average student to staff ratio over the years, for US schools and non-US schools"
   ]
  },
  {
   "cell_type": "code",
   "execution_count": 14,
   "metadata": {
    "collapsed": false
   },
   "outputs": [
    {
     "data": {
      "text/plain": [
       "<matplotlib.legend.Legend at 0x107cb00f0>"
      ]
     },
     "execution_count": 14,
     "metadata": {},
     "output_type": "execute_result"
    },
    {
     "data": {
      "image/png": "[encoded data removed]",
      "text/plain": [
       "<matplotlib.figure.Figure at 0x10759a898>"
      ]
     },
     "metadata": {},
     "output_type": "display_data"
    }
   ],
   "source": [
    "US_year_ratio = pd.DataFrame(US_schools[[\"year\",\"student_staff_ratio\"]])\n",
    "US_year_ratio_pivot = pd.pivot_table(US_year_ratio,index = \"year\",values = [\"student_staff_ratio\"],aggfunc = np.mean)\n",
    "non_US_year_ratio = pd.DataFrame(non_US_schools[[\"year\",\"student_staff_ratio\"]])\n",
    "non_US_year_ratio_pivot = pd.pivot_table(non_US_year_ratio,index = 'year',values=[\"student_staff_ratio\"],aggfunc=np.mean)\n",
    "\n",
    "fig = plt.figure()\n",
    "ax = plt.subplot(111)\n",
    "\n",
    "ax.plot(US_year_ratio_pivot.index,US_year_ratio_pivot[\"student_staff_ratio\"],label = \"US schools\")\n",
    "ax.plot(non_US_year_ratio_pivot.index,non_US_year_ratio_pivot[\"student_staff_ratio\"],label = \"non-US schools\")\n",
    "#ratio_categories = [\"US schools\",\"non-US schools\"]\n",
    "#plt.legend(ratio_categories)\n",
    "plt.xlabel(\"year\")\n",
    "plt.ylabel(\"student staff ratio\")\n",
    "plt.title(\"Average student-staff ratio over the years\")\n",
    "\n",
    "box = ax.get_position()\n",
    "ax.set_position([box.x0, box.y0, box.width * 0.8, box.height])\n",
    "ax.legend(loc='center left', bbox_to_anchor=(1, 0.5))"
   ]
  },
  {
   "cell_type": "markdown",
   "metadata": {},
   "source": [
    "#5. How do citations,international students,male/female,student_staff ratio correlate graphically with total score.  Show in the year 2016."
   ]
  },
  {
   "cell_type": "code",
   "execution_count": 15,
   "metadata": {
    "collapsed": false
   },
   "outputs": [
    {
     "data": {
      "text/plain": [
       "[None,\n",
       " None,\n",
       " None,\n",
       " None,\n",
       " None,\n",
       " None,\n",
       " None,\n",
       " None,\n",
       " None,\n",
       " None,\n",
       " None,\n",
       " None,\n",
       " None,\n",
       " None]"
      ]
     },
     "execution_count": 15,
     "metadata": {},
     "output_type": "execute_result"
    },
    {
     "data": {
      "image/png": "[encoded data removed]",
      "text/plain": [
       "<matplotlib.figure.Figure at 0x1075add30>"
      ]
     },
     "metadata": {},
     "output_type": "display_data"
    }
   ],
   "source": [
    "#let's start with 2016, can make subplots for each year maybe\n",
    "university_200_2016 = university_200[university_200[\"year\"]==2016]\n",
    "#plot each category vs. total score, all have slight linear trends\n",
    "#1. citations\n",
    "#2. international students\n",
    "#3. male, female\n",
    "#4. student staff ratio\n",
    "\n",
    "f, axarr = plt.subplots(2, 2)\n",
    "axarr[0, 0].scatter(university_200_2016[\"citations\"], university_200_2016[\"total_score\"])\n",
    "axarr[0, 0].set_title('Citations')\n",
    "axarr[0, 0].set_ylabel('total score')\n",
    "axarr[0, 1].scatter(university_200_2016[\"international_students\"], university_200_2016[\"total_score\"])\n",
    "axarr[0, 1].set_title('International Students')\n",
    "axarr[1, 0].scatter(university_200_2016[\"male\"], university_200_2016[\"total_score\"])\n",
    "axarr[1, 0].set_title('Male')\n",
    "axarr[1, 1].scatter(university_200_2016[\"student_staff_ratio\"], university_200_2016[\"total_score\"])\n",
    "axarr[1, 1].set_title('Student Staff Ratio')\n",
    "\n",
    "plt.setp([a.get_xticklabels() for a in axarr[0, :]], visible=False)\n",
    "plt.setp([a.get_yticklabels() for a in axarr[:, 1]], visible=False)"
   ]
  },
  {
   "cell_type": "markdown",
   "metadata": {},
   "source": [
    "##Machine Learning Practice"
   ]
  },
  {
   "cell_type": "markdown",
   "metadata": {},
   "source": [
    "Split dataset into train and test set with \"total score\" as target variable: train on years 2011-2015, and test on 2016.  Start with linear regression."
   ]
  },
  {
   "cell_type": "code",
   "execution_count": 19,
   "metadata": {
    "collapsed": false
   },
   "outputs": [
    {
     "name": "stdout",
     "output_type": "stream",
     "text": [
      "      prediction  real\n",
      "1803   83.052888  95.2\n",
      "1804   77.499039  94.2\n",
      "1805   75.166386  93.9\n",
      "1806   73.695750  92.8\n",
      "1807   82.949182  92.0\n",
      "1808   71.624955  91.6\n",
      "1809   73.638848  90.1\n",
      "1810   77.975641  89.1\n",
      "1811   76.888867  88.3\n",
      "1812   70.476456  87.9\n",
      "1813   80.640253  87.6\n",
      "1814   70.111267  87.4\n",
      "1815   68.261793  87.2\n",
      "1816   71.694503  87.1\n",
      "1817   71.479583  86.1\n",
      "1818   68.852437  85.8\n",
      "1819   70.903258  85.2\n",
      "1820   67.274979  84.0\n",
      "1821   63.876021  83.9\n",
      "1822   79.584362  82.7\n",
      "1823   69.370738  82.4\n",
      "1824   75.761744  82.3\n",
      "1825   62.948949  81.3\n",
      "1826   68.821659  80.3\n",
      "1827   73.101677  79.5\n",
      "1828   63.889219  79.2\n",
      "1829   68.832740  78.2\n",
      "1830   69.761456  77.5\n",
      "1831   68.990437  77.3\n",
      "1832   65.841866  77.2\n",
      "...          ...   ...\n",
      "1973   49.620219  51.1\n",
      "1974   63.357325  51.0\n",
      "1975   61.667117  51.0\n",
      "1976   54.806280  50.9\n",
      "1977   48.259754  50.8\n",
      "1978   52.838829  50.6\n",
      "1979   52.996825  50.6\n",
      "1980   48.696465  50.5\n",
      "1981   50.828744  50.3\n",
      "1982   56.828843  50.2\n",
      "1983   69.244071  50.2\n",
      "1984   58.083806  50.1\n",
      "1985   59.855271  50.1\n",
      "1986   61.940061  50.1\n",
      "1987   67.413205  49.9\n",
      "1988   65.510173  49.9\n",
      "1989   51.993204  49.9\n",
      "1990   57.057655  49.8\n",
      "1991   54.724798  49.7\n",
      "1992   54.336300  49.6\n",
      "1993   60.980152  49.6\n",
      "1994   64.541800  49.5\n",
      "1995   67.938184  49.4\n",
      "1996   42.712212  49.4\n",
      "1997   65.349735  49.3\n",
      "1998   61.249613  49.2\n",
      "1999   66.543910  49.2\n",
      "2000   55.295525  49.1\n",
      "2001   60.595989  48.9\n",
      "2002   54.987296  48.8\n",
      "\n",
      "[200 rows x 2 columns]\n"
     ]
    }
   ],
   "source": [
    "import warnings\n",
    "warnings.filterwarnings(\"ignore\", category=DeprecationWarning)\n",
    "\n",
    "train =  university_200[university_200[\"year\"]!=2016]\n",
    "test = university_200_2016\n",
    "\n",
    "from sklearn.linear_model import LinearRegression\n",
    "from sklearn.linear_model import LogisticRegression\n",
    "\n",
    "regressor = LinearRegression()\n",
    "#predictors selected from analysis shown above\n",
    "predictors = ['citations','student_staff_ratio',\"income\",\"male\",\"female\",\"international_students\"]\n",
    "\n",
    "regressor.fit(train[predictors],train['total_score'])\n",
    "prediction = regressor.predict(test[predictors])\n",
    "\n",
    "Prediction_comparison = pd.DataFrame({\"real\":test[\"total_score\"],\"prediction\":prediction})\n",
    "print(Prediction_comparison)"
   ]
  },
  {
   "cell_type": "code",
   "execution_count": 17,
   "metadata": {
    "collapsed": false
   },
   "outputs": [
    {
     "name": "stdout",
     "output_type": "stream",
     "text": [
      "rmse = 9.462244519551255\n"
     ]
    }
   ],
   "source": [
    "#calculate root mean squared error\n",
    "from sklearn.metrics import mean_squared_error\n",
    "mse = mean_squared_error(test[\"total_score\"], prediction)\n",
    "rmse = mse **0.5\n",
    "print(\"rmse = {0}\".format(rmse))"
   ]
  },
  {
   "cell_type": "markdown",
   "metadata": {},
   "source": [
    "Compare linear regression with random forest, to see if error can be lowered further."
   ]
  },
  {
   "cell_type": "code",
   "execution_count": 20,
   "metadata": {
    "collapsed": false
   },
   "outputs": [
    {
     "name": "stdout",
     "output_type": "stream",
     "text": [
      "rmse = 7.108878251876312\n"
     ]
    }
   ],
   "source": [
    "from sklearn.ensemble import RandomForestClassifier\n",
    "alg = RandomForestClassifier(random_state=1,n_estimators=150,min_samples_split=4,min_samples_leaf=2)\n",
    "alg.fit(train[predictors],train[\"total_score\"])\n",
    "Forest_prediction = alg.predict(test[predictors])\n",
    "\n",
    "ForestMSE = mean_squared_error(test[\"total_score\"],Forest_prediction)\n",
    "Forestrmse = ForestMSE**0.5\n",
    "print(\"rmse = {0}\".format(Forestrmse))\n"
   ]
  }
 ],
 "metadata": {
  "kernelspec": {
   "display_name": "Python 3",
   "language": "python",
   "name": "python3"
  },
  "language_info": {
   "codemirror_mode": {
    "name": "ipython",
    "version": 3
   },
   "file_extension": ".py",
   "mimetype": "text/x-python",
   "name": "python",
   "nbconvert_exporter": "python",
   "pygments_lexer": "ipython3",
   "version": "3.5.1"
  }
 },
 "nbformat": 4,
 "nbformat_minor": 0
}
